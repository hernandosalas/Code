{
  "nbformat": 4,
  "nbformat_minor": 0,
  "metadata": {
    "colab": {
      "name": "Snippets.ipynb",
      "provenance": [],
      "collapsed_sections": [],
      "toc_visible": true,
      "authorship_tag": "ABX9TyMmsIBiYBcvXnyWmpHoQMD1",
      "include_colab_link": true
    },
    "kernelspec": {
      "name": "python3",
      "display_name": "Python 3"
    },
    "accelerator": "TPU"
  },
  "cells": [
    {
      "cell_type": "markdown",
      "metadata": {
        "id": "view-in-github",
        "colab_type": "text"
      },
      "source": [
        "<a href=\"https://colab.research.google.com/github/hernandosalas/Code/blob/master/Machine%20Learning/Snippets.ipynb\" target=\"_parent\"><img src=\"https://colab.research.google.com/assets/colab-badge.svg\" alt=\"Open In Colab\"/></a>"
      ]
    },
    {
      "cell_type": "code",
      "metadata": {
        "id": "1QjibUlqBRJx",
        "colab_type": "code",
        "colab": {}
      },
      "source": [
        "# Changing Working Directory\n",
        "!ls\n",
        "import os\n",
        "os.chdir(\"/content/drive/My Drive/app\")\n",
        "!ls"
      ],
      "execution_count": null,
      "outputs": []
    },
    {
      "cell_type": "code",
      "metadata": {
        "id": "TNfsuHTMBoip",
        "colab_type": "code",
        "colab": {}
      },
      "source": [
        "# Restart Google Colab\n",
        "!kill -9 -1"
      ],
      "execution_count": null,
      "outputs": []
    },
    {
      "cell_type": "code",
      "metadata": {
        "id": "gQDiHCnV-7E9",
        "colab_type": "code",
        "colab": {}
      },
      "source": [
        "# Running or Importing .py Files with Google Colab\n",
        "from google.colab import drive\n",
        "drive.mount('/content/drive/')\n",
        "\n",
        "!ls \"/content/drive/My Drive/\""
      ],
      "execution_count": null,
      "outputs": []
    },
    {
      "cell_type": "code",
      "metadata": {
        "id": "Limm2i5nB8da",
        "colab_type": "code",
        "colab": {}
      },
      "source": [
        "# How to See Function Arguments\n",
        "import tensorflow as tf\n",
        "tf.nn.sigmoid_cross_entropy_with_logits?"
      ],
      "execution_count": null,
      "outputs": []
    },
    {
      "cell_type": "code",
      "metadata": {
        "id": "Q6uQQzYTCJXH",
        "colab_type": "code",
        "colab": {}
      },
      "source": [
        "# Send Large Files From Colab To Google Drive\n",
        "# Which file to send?\n",
        "file_name = \"REPO.tar\"\n",
        "\n",
        "from googleapiclient.http import MediaFileUpload\n",
        "from googleapiclient.discovery import build\n",
        "\n",
        "auth.authenticate_user()\n",
        "drive_service = build('drive', 'v3')\n",
        "\n",
        "def save_file_to_drive(name, path):\n",
        "  file_metadata = {'name': name, 'mimeType': 'application/octet-stream'}\n",
        "  media = MediaFileUpload(path, mimetype='application/octet-stream', resumable=True)\n",
        "  created = drive_service.files().create(body=file_metadata, media_body=media, fields='id').execute()\n",
        "  \n",
        "  return created\n",
        "\n",
        "save_file_to_drive(file_name, file_name)"
      ],
      "execution_count": null,
      "outputs": []
    },
    {
      "cell_type": "code",
      "metadata": {
        "id": "cGym-nq-DmoA",
        "colab_type": "code",
        "colab": {}
      },
      "source": [
        "# Running a Python Script\n",
        "!python setup.py"
      ],
      "execution_count": null,
      "outputs": []
    },
    {
      "cell_type": "code",
      "metadata": {
        "id": "vxCm9jFNJaNt",
        "colab_type": "code",
        "colab": {}
      },
      "source": [
        "# RESTART RUNTIME\n",
        "import os\n",
        "os.kill(os.getpid(), 9)"
      ],
      "execution_count": null,
      "outputs": []
    },
    {
      "cell_type": "code",
      "metadata": {
        "id": "mmZHPi_5_Y9A",
        "colab_type": "code",
        "colab": {}
      },
      "source": [
        "# Download Dataset (.csv File) to my drive\n",
        "!wget https://raw.githubusercontent.com/vincentarelbundock/Rdatasets/master/csv/datasets/Titanic.csv -P \"/content/drive/My Drive/app\""
      ],
      "execution_count": null,
      "outputs": []
    },
    {
      "cell_type": "code",
      "metadata": {
        "id": "IPYouckz_o6M",
        "colab_type": "code",
        "colab": {}
      },
      "source": [
        "# Read .csv file in “app” folder and display first 5 rows\n",
        "import pandas as pd\n",
        "titanic = pd.read_csv(\"/content/drive/My Drive/app/Titanic.csv\")\n",
        "titanic.head(5)"
      ],
      "execution_count": null,
      "outputs": []
    },
    {
      "cell_type": "code",
      "metadata": {
        "id": "A6AFmEI8_1wM",
        "colab_type": "code",
        "colab": {}
      },
      "source": [
        "# Cloning Github Repo to Google Colab\n",
        "!git clone https://github.com/wxs/keras-mnist-tutorial.git"
      ],
      "execution_count": null,
      "outputs": []
    },
    {
      "cell_type": "code",
      "metadata": {
        "id": "vXaBNQstAWWk",
        "colab_type": "code",
        "colab": {}
      },
      "source": [
        "# How to Install Libraries\n",
        "\n",
        "# Keras\n",
        "!pip install -q keras\n",
        "import keras\n",
        "\n",
        "# PyTorch #1\n",
        "from os import path\n",
        "from wheel.pep425tags import get_abbr_impl, get_impl_ver, get_abi_tag\n",
        "platform = '{}{}-{}'.format(get_abbr_impl(), get_impl_ver(), get_abi_tag())\n",
        "accelerator = 'cu80' if path.exists('/opt/bin/nvidia-smi') else 'cpu'\n",
        "!pip install -q http://download.pytorch.org/whl/{accelerator}/torch-0.3.0.post4-{platform}-linux_x86_64.whl torchvision\n",
        "import torch\n",
        "\n",
        "# PyTorch #2\n",
        "!pip3 install torch torchvision\n",
        "import torch\n",
        "\n",
        "# MxNet\n",
        "!apt install libnvrtc8.0\n",
        "!pip install mxnet-cu80\n",
        "import mxnet as mx\n",
        "\n",
        "# OpenCV\n",
        "!apt-get -qq install -y libsm6 libxext6 && pip install -q -U opencv-python\n",
        "import cv2\n",
        "\n",
        "# XGBoost\n",
        "!pip install -q xgboost==0.4a30\n",
        "import xgboost\n",
        "\n",
        "# GraphViz\n",
        "!apt-get -qq install -y graphviz && pip install -q pydot\n",
        "import pydot\n",
        "\n",
        "# 7zip Reader\n",
        "!apt-get -qq install -y libarchive-dev && pip install -q -U libarchive\n",
        "import libarchive"
      ],
      "execution_count": null,
      "outputs": []
    },
    {
      "cell_type": "code",
      "metadata": {
        "id": "ysOtvJhA8DS8",
        "colab_type": "code",
        "colab": {}
      },
      "source": [
        "# Increase Your RAM space from 12 GB to 25 GB\n",
        "arr=[]\n",
        "while(1):\n",
        " arr.append(1)"
      ],
      "execution_count": null,
      "outputs": []
    },
    {
      "cell_type": "code",
      "metadata": {
        "id": "ZnaVmZAK8Ki3",
        "colab_type": "code",
        "colab": {}
      },
      "source": [
        "# Load Huge Datasets Using the Unzip Method to Save Disk Memory\n",
        "from google.colab import drive\n",
        "drive.mount('/content/drive')\n",
        "# !unzip -q \"COPIED_PATH_OF ZIP_FILE\"\n",
        "# !rm \"COPIED_PATH_OF ZIP_FILE\"\n",
        "#rm is to remove the unneeded zip file after unzipping it"
      ],
      "execution_count": null,
      "outputs": []
    },
    {
      "cell_type": "code",
      "metadata": {
        "id": "dmEBavzGx_w6",
        "colab_type": "code",
        "colab": {}
      },
      "source": [
        "# CHECK GPU AND RAM\n",
        "\n",
        "# memory footprint support libraries/code\n",
        "!ln -sf /opt/bin/nvidia-smi /usr/bin/nvidia-smi\n",
        "!pip install gputil\n",
        "!pip install psutil\n",
        "!pip install humanize\n",
        "\n",
        "import psutil\n",
        "import humanize\n",
        "import os\n",
        "import GPUtil as GPU\n",
        "import tensorflow as tf\n",
        "from tensorflow.python.client import device_lib\n",
        "GPUs = GPU.getGPUs()\n",
        "\n",
        "# XXX: only one GPU on Colab and isn’t guaranteed\n",
        "gpu = GPUs[0]\n",
        "def printm():\n",
        "  process = psutil.Process(os.getpid())\n",
        "  print(\"Gen RAM Free: \" + humanize.naturalsize( psutil.virtual_memory().available ), \" | Proc size: \" + humanize.naturalsize( process.memory_info().rss))\n",
        "  print(\"GPU RAM Free: {0:.0f}MB | Used: {1:.0f}MB | Util {2:3.0f}% | Total {3:.0f}MB\".format(gpu.memoryFree, gpu.memoryUsed, gpu.memoryUtil*100, gpu.memoryTotal))\n",
        "\n",
        "printm()\n",
        "\n",
        "!nvidia-smi\n",
        "\n",
        "\n",
        "tf.test.gpu_device_name() # If /device:GPU:0 means using GPU\n",
        "device_lib.list_local_devices()\n",
        "\n",
        "# Ram info\n",
        "!cat /proc/meminfo\n",
        "\n",
        "# CPU info\n",
        "!cat /proc/cpuinfo"
      ],
      "execution_count": null,
      "outputs": []
    }
  ]
}