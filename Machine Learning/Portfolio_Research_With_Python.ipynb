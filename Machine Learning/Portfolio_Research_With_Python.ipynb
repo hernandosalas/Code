{
  "nbformat": 4,
  "nbformat_minor": 0,
  "metadata": {
    "colab": {
      "name": "Portfolio Research With Python.ipynb",
      "provenance": [],
      "authorship_tag": "ABX9TyOblhEk8jAdiaUbyiMcVyJz",
      "include_colab_link": true
    },
    "kernelspec": {
      "name": "python3",
      "display_name": "Python 3"
    }
  },
  "cells": [
    {
      "cell_type": "markdown",
      "metadata": {
        "id": "view-in-github",
        "colab_type": "text"
      },
      "source": [
        "<a href=\"https://colab.research.google.com/github/hernandosalas/Code/blob/master/Machine%20Learning/Portfolio_Research_With_Python.ipynb\" target=\"_parent\"><img src=\"https://colab.research.google.com/assets/colab-badge.svg\" alt=\"Open In Colab\"/></a>"
      ]
    },
    {
      "cell_type": "code",
      "metadata": {
        "id": "KdH1NMT0xnjc",
        "colab_type": "code",
        "colab": {}
      },
      "source": [
        "import requests\n",
        "import pandas as pd"
      ],
      "execution_count": 1,
      "outputs": []
    },
    {
      "cell_type": "code",
      "metadata": {
        "id": "Dw5wBxYHyDg-",
        "colab_type": "code",
        "colab": {
          "base_uri": "https://localhost:8080/",
          "height": 221
        },
        "outputId": "e9b17f4b-0db2-49be-c960-fd11f0372b59"
      },
      "source": [
        "def getdata(stock):\n",
        "  output = []\n",
        "  add = \"9ed154fca9564335c2e742942948e14d\"\n",
        "  # Company Quote Group of Items\n",
        "  company_quote = requests.get(f\"https://financialmodelingprep.com/api/v3/company/profile/{stock}?apikey={add}\")\n",
        "  company_quote = company_quote.json()\n",
        "  share_price = float(\"{0:.2f}\".format(company_quote['profile']['price']))\n",
        "\n",
        "  # Balance Sheet Group of Items    \n",
        "  BS = requests.get(f\"https://financialmodelingprep.com/api/v3/financials/balance-sheet-statement/{stock}?period=quarter&apikey={add}\")\n",
        "  BS = BS.json()\n",
        "\n",
        "  #Total Debt\n",
        "  debt = float(\"{0:.2f}\".format(float(BS['financials'][0]['Total debt'])/10**9))\n",
        "\n",
        "  #Total Cash\n",
        "  cash = float(\"{0:.2f}\".format(float(BS['financials'][0]['Cash and short-term investments'])/10**9))\n",
        "\n",
        "  # Income Statement Group of Items\n",
        "  IS = requests.get(f\"https://financialmodelingprep.com/api/v3/financials/income-statement/{stock}?period=quarter&apikey={add}\")\n",
        "  IS = IS.json()\n",
        "\n",
        "  # Most Recent Quarterly Revenue\n",
        "  qRev = float(\"{0:.2f}\".format(float(IS['financials'][0]['Revenue'])/10**9))\n",
        "\n",
        "  # Company Profile Group of Items\n",
        "  company_info = requests.get(f\"https://financialmodelingprep.com/api/v3/company/profile/{stock}?apikey={add}\")\n",
        "  company_info = company_info.json()\n",
        "\n",
        "  # Chief Executive Officer\n",
        "  ceo = company_info['profile']['ceo']\n",
        "\n",
        "  output = {'Symbol':stock,'Total Cash':cash,'Total Debt':debt,'Q3 2019 Revenue':qRev,'CEO':ceo}\n",
        "\n",
        "  return output\n",
        "\n",
        "tickers = ['AAPL', 'MSFT', 'GOOG', 'T', 'CSCO', 'INTC', 'ORCL', 'AMZN', 'FB', 'TSLA', 'NVDA']\n",
        "\n",
        "df = pd.DataFrame([],\n",
        "     columns=['Symbol','Total Cash', 'Total Debt', 'Q3 2019 Revenue', 'CEO'])\n",
        "\n",
        "for ticker in tickers:\n",
        "    df = df.append(getdata(ticker),ignore_index=True)\n",
        "print(df)\n",
        "\n",
        "\n",
        "    \n",
        "# data = map(getdata, tickers)\n"
      ],
      "execution_count": 19,
      "outputs": [
        {
          "output_type": "stream",
          "text": [
            "   Symbol  Total Cash  Total Debt  Q3 2019 Revenue                         CEO\n",
            "0    AAPL       94.05       99.48            58.31         Mr. Timothy D. Cook\n",
            "1    MSFT      137.63       66.61            35.02           Mr. Satya Nadella\n",
            "2    GOOG      117.23        5.37            41.16           Mr. Sundar Pichai\n",
            "3       T        9.96      164.27            42.78   Mr. Randall L. Stephenson\n",
            "4    CSCO       28.57       16.08            11.98      Mr. Charles H. Robbins\n",
            "5    INTC       12.68       39.92            19.83          Mr. Robert H. Swan\n",
            "6    ORCL       43.06       71.60            10.44          Ms. Safra Ada Catz\n",
            "7    AMZN       49.29       23.44            75.45        Mr. Jeffrey P. Bezos\n",
            "8      FB       60.29       10.34            17.74  Mr. Mark Elliot Zuckerberg\n",
            "9    TSLA        8.08        1.20             5.99            Mr. Elon R. Musk\n",
            "10   NVDA       16.35        0.52             3.08          Mr. Jen-Hsun Huang\n"
          ],
          "name": "stdout"
        }
      ]
    }
  ]
}