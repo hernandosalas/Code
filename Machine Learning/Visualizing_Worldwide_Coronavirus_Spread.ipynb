{
 "cells": [
  {
   "cell_type": "code",
   "execution_count": null,
   "metadata": {},
   "outputs": [],
   "source": [
    "# LIBRARIES\n",
    "import numpy as np\n",
    "import pandas as pd\n",
    "import networkx as nx\n",
    "import matplotlib.pyplot as plt\n",
    "from mpl_toolkits.basemap import Basemap as Basemap\n",
    "from shapely.geometry import Point, MultiPoint\n",
    "from ipywidgets import interact, widgets\n",
    "from IPython.display import display"
   ]
  },
  {
   "cell_type": "code",
   "execution_count": null,
   "metadata": {},
   "outputs": [],
   "source": [
    "df = pd.read_csv(‘https://coronadatascraper.com/timeseries.csv', parse_dates=[‘date’])"
   ]
  },
  {
   "cell_type": "code",
   "execution_count": null,
   "metadata": {},
   "outputs": [],
   "source": [
    "# Get Country, Lat, Long, Cases, Date\n",
    "case_df = df[[‘country’, ‘lat’, ‘long’, ‘cases’, ‘date’]]"
   ]
  },
  {
   "cell_type": "code",
   "execution_count": null,
   "metadata": {},
   "outputs": [],
   "source": [
    "# Plotting the Map Using Basemap\n",
    "m = Basemap(llcrnrlon=-150., llcrnrlat=-50., urcrnrlon=160., urcrnrlat=75., rsphere=(6378137.00,6356752.3142), resolution='l', projection='merc', lat_0=0,lon_0=0., lat_ts=20.)\n",
    "G=nx.Graph()\n",
    "plt.figure(figsize = (20,10))\n",
    "nx.draw_networkx(G, node_size=200, node_color='blue')"
   ]
  },
  {
   "cell_type": "code",
   "execution_count": null,
   "metadata": {},
   "outputs": [],
   "source": [
    "# Plotting Coronavirus Cases\n",
    "\n",
    "# Create a scatter plot of cases on a single date d.\n",
    "one_date_df = case_df[case_df['date']== d]\n",
    "map_points = pd.Series([Point(m(mapped_x, mapped_y)) for mapped_x, mapped_y in zip(one_date_df['long'], one_date_df['lat'])])\n",
    "\n",
    "# Create a scatterplot on the map\n",
    "dev = m.scatter( [geom.x for geom in map_points],  [geom.y for geom in map_points],  20, marker='o', lw=.25, facecolor='#33ccff',edgecolor='w', alpha=0.9,antialiased=True, zorder=3)\n",
    "\n",
    "# Now draw the map\n",
    " m.drawcountries()\n",
    " m.drawstates()\n",
    " m.bluemarble()\n",
    " plt.title('Coronavirus')\n",
    "\n"
   ]
  },
  {
   "cell_type": "code",
   "execution_count": null,
   "metadata": {},
   "outputs": [],
   "source": [
    "# Making the Map Interactive\n",
    "\n",
    "def create_map(date_d):\n",
    "    m = Basemap(\n",
    "            llcrnrlon=-150.,\n",
    "            llcrnrlat=-50.,\n",
    "            urcrnrlon=160.,\n",
    "            urcrnrlat=75.,\\\n",
    "            rsphere=(6378137.00,6356752.3142),\\\n",
    "            resolution='l',projection='merc',\\\n",
    "            lat_0=0,lon_0=0.,lat_ts=20.)\n",
    "G=nx.Graph()\n",
    "fig = plt.figure(figsize = (20,10))\n",
    "nx.draw_networkx(G,node_size=200,node_color='blue')\n",
    "\n",
    "# Draw scatter\n",
    "one_date_df = case_df[case_df['date']== date_d]\n",
    "map_points = pd.Series([Point(m(mapped_x, mapped_y)) for mapped_x, mapped_y in zip(one_date_df['long'], one_date_df['lat'])])\n",
    "\n",
    "# Scatterplot on the map\n",
    "dev = m.scatter(\n",
    "            [geom.x for geom in map_points],\n",
    "            [geom.y for geom in map_points],\n",
    "            20, marker='o', lw=.25,\n",
    "            facecolor='#33ccff', edgecolor='w',\n",
    "            alpha=0.9,antialiased=True,\n",
    "            zorder=3)\n",
    "\n",
    "# Draw the map\n",
    "m.drawcountries()\n",
    "m.drawstates()\n",
    "m.bluemarble()\n",
    "plt.title('Global Coronavirus Cases Starting From 1/22/2020')\n",
    "return (date_d, fig)\n",
    "\n",
    "all_dates = list(case_df['date'].unique())\n",
    "\n",
    "all_maps = [ ]\n",
    "for date_d in all_dates:\n",
    "    all_maps.append(create_map(date_d))\n",
    "\n",
    "def f(index):\n",
    "    img = all_maps[index][1]\n",
    "    display(img)\n",
    "\n",
    "interact(f, index=widgets.IntSlider(min=0,max=68,step=1,value=1,\n",
    " description=’Date Starting From 1/22/2020:’ ))"
   ]
  }
 ],
 "metadata": {
  "language_info": {
   "codemirror_mode": {
    "name": "ipython",
    "version": 3
   },
   "file_extension": ".py",
   "mimetype": "text/x-python",
   "name": "python",
   "nbconvert_exporter": "python",
   "pygments_lexer": "ipython3",
   "version": 3
  },
  "orig_nbformat": 2
 },
 "nbformat": 4,
 "nbformat_minor": 2
}